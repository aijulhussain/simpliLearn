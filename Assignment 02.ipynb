{
  "metadata": {
    "kernelspec": {
      "name": "python",
      "display_name": "Pyolite",
      "language": "python"
    },
    "language_info": {
      "codemirror_mode": {
        "name": "python",
        "version": 3
      },
      "file_extension": ".py",
      "mimetype": "text/x-python",
      "name": "python",
      "nbconvert_exporter": "python",
      "pygments_lexer": "ipython3",
      "version": "3.8"
    }
  },
  "nbformat_minor": 4,
  "nbformat": 4,
  "cells": [
    {
      "cell_type": "markdown",
      "source": "<img src=\"http://cfs22.simplicdn.net/ice9/new_logo.svgz \"/>\n\n# Assignment 02: Evaluate the Summer Olympics, London 2012 dataset\n\n*The comments/sections provided are your cues to perform the assignment. You don't need to limit yourself to the number of rows/cells provided. You can add additional rows in each section to add more lines of code.*\n\n*If at any point in time you need help on solving this assignment, view our demo video to understand the different steps of the code.*\n\n**Happy coding!**\n\n* * *",
      "metadata": {}
    },
    {
      "cell_type": "markdown",
      "source": "#### 1: View and add the dataset",
      "metadata": {}
    },
    {
      "cell_type": "code",
      "source": "#Import the necessary library\nimport numpy as np",
      "metadata": {
        "tags": [],
        "trusted": true
      },
      "execution_count": 1,
      "outputs": []
    },
    {
      "cell_type": "code",
      "source": "#Manually add the Summer Olympics, London 2012 dataset as arrays\nnp_olympic_country=np.array(['Great Britain', 'China', 'Russia', 'United States', 'Korea', 'Japan', 'Germany'])\nnp_olympic_gold= np.array([29, 38, 24, 46, 13, 7, 11])\nnp_olympic_silver=np.array([17, 28, 25, 28, 8, 14, 11])\nnp_olympic_bronze=np.array([19, 22, 32, 29, 7, 17, 14])\n\n\n",
      "metadata": {
        "tags": [],
        "trusted": true
      },
      "execution_count": 15,
      "outputs": []
    },
    {
      "cell_type": "markdown",
      "source": "#### Find the country with maximum gold medals",
      "metadata": {}
    },
    {
      "cell_type": "code",
      "source": "#Use the argmax() method to find the highest number of gold medals\nmax_gold_index= np_olympic_gold.argmax()\nmax_gold_country= np_olympic_country[max_gold_index]\n",
      "metadata": {
        "tags": [],
        "trusted": true
      },
      "execution_count": 16,
      "outputs": []
    },
    {
      "cell_type": "code",
      "source": "#Print the name of the country\nprint(max_gold_country)",
      "metadata": {
        "collapsed": false,
        "jupyter": {
          "outputs_hidden": false
        },
        "trusted": true
      },
      "execution_count": 17,
      "outputs": [
        {
          "name": "stdout",
          "text": "United States\n",
          "output_type": "stream"
        }
      ]
    },
    {
      "cell_type": "markdown",
      "source": "#### Find the countries with more than 20 gold medals",
      "metadata": {}
    },
    {
      "cell_type": "code",
      "source": "#Use Boolean indexing technique to find the required output\nprint(np_olympic_country[np_olympic_gold>20])",
      "metadata": {
        "collapsed": false,
        "jupyter": {
          "outputs_hidden": false
        },
        "trusted": true
      },
      "execution_count": 18,
      "outputs": [
        {
          "name": "stdout",
          "text": "['Great Britain' 'China' 'Russia' 'United States']\n",
          "output_type": "stream"
        }
      ]
    },
    {
      "cell_type": "markdown",
      "source": "#### Evaluate the dataset and print the name of each country with its gold medals and total number of medals",
      "metadata": {}
    },
    {
      "cell_type": "code",
      "source": "#Use a for loop to create the required output\nfor i in range (len(np_olympic_country)):\n    olympic_gold= np_olympic_gold[i]\n    olympic_country=np_olympic_country[i]\n    total_medal=np_olympic_gold[i]+np_olympic_silver[i]+np_olympic_bronze[i]\n    print(\"country {} with {} medals and total no. of medals {}\" .format(olympic_country, olympic_gold, total_medal))",
      "metadata": {
        "collapsed": false,
        "jupyter": {
          "outputs_hidden": false
        },
        "trusted": true
      },
      "execution_count": 19,
      "outputs": [
        {
          "name": "stdout",
          "text": "country Great Britain with 29 medals and total no. of medals 65\ncountry China with 38 medals and total no. of medals 88\ncountry Russia with 24 medals and total no. of medals 81\ncountry United States with 46 medals and total no. of medals 103\ncountry Korea with 13 medals and total no. of medals 28\ncountry Japan with 7 medals and total no. of medals 38\ncountry Germany with 11 medals and total no. of medals 36\n",
          "output_type": "stream"
        }
      ]
    },
    {
      "cell_type": "code",
      "source": "",
      "metadata": {},
      "execution_count": null,
      "outputs": []
    }
  ]
}